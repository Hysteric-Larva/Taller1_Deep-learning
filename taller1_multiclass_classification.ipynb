{
  "nbformat": 4,
  "nbformat_minor": 0,
  "metadata": {
    "colab": {
      "name": "taller1_multiclass_classification.ipynb",
      "provenance": [],
      "collapsed_sections": [
        "XNPIOiF7evi2",
        "lHtmuP-s0qyb"
      ]
    },
    "kernelspec": {
      "name": "python3",
      "display_name": "Python 3"
    }
  },
  "cells": [
    {
      "cell_type": "code",
      "metadata": {
        "id": "lPjiLDJ0Sq-v",
        "colab_type": "code",
        "colab": {}
      },
      "source": [
        "import numpy as np\n",
        "import matplotlib.pyplot as plt\n",
        "import pandas as pd\n",
        "import seaborn as sns\n",
        "import tensorflow as tf\n",
        "from tensorflow import keras\n",
        "from tensorflow.keras import layers\n",
        "from sklearn.model_selection import train_test_split\n",
        "from sklearn.preprocessing import StandardScaler\n",
        "from time import time\n",
        "from sklearn.datasets import make_blobs"
      ],
      "execution_count": 0,
      "outputs": []
    },
    {
      "cell_type": "markdown",
      "metadata": {
        "id": "HqNp1pjfVE4F",
        "colab_type": "text"
      },
      "source": [
        "# Carga de datos"
      ]
    },
    {
      "cell_type": "code",
      "metadata": {
        "id": "_DL42Dk3Ttay",
        "colab_type": "code",
        "colab": {}
      },
      "source": [
        "def grafica(X,y):\n",
        "  sns.set_style(\"darkgrid\")\n",
        "  plt.figure(figsize=(8,6))\n",
        "  plt.scatter(X[:,0],X[:,1],c=y,cmap='cividis')\n",
        "  plt.show()\n",
        "\n",
        "X, y = make_blobs(n_samples=1000, centers=3, n_features=2, random_state=12, cluster_std=1)\n",
        "grafica(X,y)"
      ],
      "execution_count": 0,
      "outputs": []
    },
    {
      "cell_type": "code",
      "metadata": {
        "id": "o0QMPQLzIukw",
        "colab_type": "code",
        "outputId": "dda3fcd9-e99d-4063-e9c6-32c829fc7423",
        "colab": {
          "base_uri": "https://localhost:8080/",
          "height": 136
        }
      },
      "source": [
        "y1, y2, y3 = [], [], []\n",
        "for i in y:\n",
        "    if i == 0:\n",
        "        y1.append(1)\n",
        "        y2.append(0)\n",
        "        y3.append(0)\n",
        "    elif i == 1:\n",
        "        y1.append(0)\n",
        "        y2.append(1)\n",
        "        y3.append(0)\n",
        "    elif i == 2:\n",
        "        y1.append(0)\n",
        "        y2.append(0)\n",
        "        y3.append(1)\n",
        "y = np.array([y1,y2,y3]).T\n",
        "y"
      ],
      "execution_count": 0,
      "outputs": [
        {
          "output_type": "execute_result",
          "data": {
            "text/plain": [
              "array([[0, 0, 1],\n",
              "       [0, 1, 0],\n",
              "       [0, 1, 0],\n",
              "       ...,\n",
              "       [0, 0, 1],\n",
              "       [1, 0, 0],\n",
              "       [0, 1, 0]])"
            ]
          },
          "metadata": {
            "tags": []
          },
          "execution_count": 21
        }
      ]
    },
    {
      "cell_type": "markdown",
      "metadata": {
        "id": "Pn2mk5X0efjc",
        "colab_type": "text"
      },
      "source": [
        "Dividimos el conjunto de entrenamiento y de test"
      ]
    },
    {
      "cell_type": "code",
      "metadata": {
        "id": "hz9oMyH8ZYuv",
        "colab_type": "code",
        "colab": {}
      },
      "source": [
        "X_train, X_test, y_train, y_test = train_test_split(X, y, test_size=0.30, random_state=0) "
      ],
      "execution_count": 0,
      "outputs": []
    },
    {
      "cell_type": "markdown",
      "metadata": {
        "id": "v0Pleezr-6ku",
        "colab_type": "text"
      },
      "source": [
        "## Normalización"
      ]
    },
    {
      "cell_type": "code",
      "metadata": {
        "id": "h1jkdqjV-87a",
        "colab_type": "code",
        "colab": {}
      },
      "source": [
        "scaler = StandardScaler().fit(X_train)\n",
        "\n",
        "X_train_normed = scaler.transform(X_train)\n",
        "X_test_normed = scaler.transform(X_test) "
      ],
      "execution_count": 0,
      "outputs": []
    },
    {
      "cell_type": "markdown",
      "metadata": {
        "id": "XNPIOiF7evi2",
        "colab_type": "text"
      },
      "source": [
        "# Modelo"
      ]
    },
    {
      "cell_type": "code",
      "metadata": {
        "id": "MhRFLuITeu5u",
        "colab_type": "code",
        "outputId": "8f5dfa04-a5ed-49cd-94e4-d1f545aaea80",
        "colab": {
          "base_uri": "https://localhost:8080/",
          "height": 221
        }
      },
      "source": [
        "model = keras.Sequential()\n",
        "model.add(layers.Dense(32, activation='relu', input_dim=X_train.shape[1]))\n",
        "model.add(layers.Dense(y_train.shape[1], activation='softmax'))\n",
        "\n",
        "model.compile(loss='categorical_crossentropy',\n",
        "              optimizer='adam',\n",
        "              metrics=['accuracy'])\n",
        "\n",
        "model.summary()"
      ],
      "execution_count": 0,
      "outputs": [
        {
          "output_type": "stream",
          "text": [
            "Model: \"sequential\"\n",
            "_________________________________________________________________\n",
            "Layer (type)                 Output Shape              Param #   \n",
            "=================================================================\n",
            "dense (Dense)                (None, 32)                96        \n",
            "_________________________________________________________________\n",
            "dense_1 (Dense)              (None, 3)                 99        \n",
            "=================================================================\n",
            "Total params: 195\n",
            "Trainable params: 195\n",
            "Non-trainable params: 0\n",
            "_________________________________________________________________\n"
          ],
          "name": "stdout"
        }
      ]
    },
    {
      "cell_type": "markdown",
      "metadata": {
        "id": "sV-5dw8Mfb9Y",
        "colab_type": "text"
      },
      "source": [
        "# Entrenamiento"
      ]
    },
    {
      "cell_type": "code",
      "metadata": {
        "id": "Qmn4E-IDfCI7",
        "colab_type": "code",
        "outputId": "e0d59eb7-2e50-41fd-b6dc-c6e035453aa4",
        "colab": {
          "base_uri": "https://localhost:8080/",
          "height": 34
        }
      },
      "source": [
        "# Display training progress by printing a single dot for each completed epoch\n",
        "class PrintDot(keras.callbacks.Callback):\n",
        "  def on_epoch_end(self, epoch, logs):\n",
        "    if epoch % 100 == 0: print('')\n",
        "    print('.', end='')\n",
        "\n",
        "EPOCHS = 100\n",
        "early_stop = keras.callbacks.EarlyStopping(monitor='accuracy',verbose=2,patience=10)                 \n",
        "history = model.fit(X_train_normed,y_train,epochs=EPOCHS,verbose=0,callbacks=[early_stop])"
      ],
      "execution_count": 0,
      "outputs": [
        {
          "output_type": "stream",
          "text": [
            "Epoch 00027: early stopping\n"
          ],
          "name": "stdout"
        }
      ]
    },
    {
      "cell_type": "code",
      "metadata": {
        "id": "X8bHoVswfip0",
        "colab_type": "code",
        "outputId": "446f8ae6-f6a1-455a-abea-24abb5739213",
        "colab": {
          "base_uri": "https://localhost:8080/",
          "height": 51
        }
      },
      "source": [
        "score = model.evaluate(X_test_normed,y_test,verbose=0)\n",
        "print('Loss:',score[0],'\\nAccuracy:',score[1])"
      ],
      "execution_count": 0,
      "outputs": [
        {
          "output_type": "stream",
          "text": [
            "Loss: 0.09771585464477539 \n",
            "Accuracy: 0.9766666889190674\n"
          ],
          "name": "stdout"
        }
      ]
    },
    {
      "cell_type": "markdown",
      "metadata": {
        "id": "lHtmuP-s0qyb",
        "colab_type": "text"
      },
      "source": [
        "# Predicción"
      ]
    },
    {
      "cell_type": "code",
      "metadata": {
        "id": "8PRn56_h-sMG",
        "colab_type": "code",
        "outputId": "3ff2ca7f-0263-4174-ae38-dad27cc640c9",
        "colab": {
          "base_uri": "https://localhost:8080/",
          "height": 374
        }
      },
      "source": [
        "y_pred = np.argmax(model.predict(X_test_normed), axis=-1)\n",
        "grafica(X_test,y_pred)"
      ],
      "execution_count": 0,
      "outputs": [
        {
          "output_type": "display_data",
          "data": {
            "image/png": "[encoded data removed]",
            "text/plain": [
              "<Figure size 576x432 with 1 Axes>"
            ]
          },
          "metadata": {
            "tags": []
          }
        }
      ]
    },
    {
      "cell_type": "markdown",
      "metadata": {
        "id": "uCqIrORHh9-S",
        "colab_type": "text"
      },
      "source": [
        "# Automatización"
      ]
    },
    {
      "cell_type": "code",
      "metadata": {
        "id": "FUzNKR0Jfx9u",
        "colab_type": "code",
        "outputId": "3f90a75c-64fd-4c11-d715-b59023931314",
        "colab": {
          "base_uri": "https://localhost:8080/",
          "height": 1000
        }
      },
      "source": [
        "def build_model(neuronas,i):\n",
        "    model = keras.Sequential(layers.Dense(neuronas, activation='relu', input_dim=X_train.shape[1]))\n",
        "    for k in range(i-1):\n",
        "        model.add(layers.Dense(2**p, activation=\"relu\"))\n",
        "    model.add(layers.Dense(y_train.shape[1],activation='softmax'))\n",
        "\n",
        "    optimizer = tf.keras.optimizers.RMSprop(0.001)\n",
        "\n",
        "    model.compile(loss='categorical_crossentropy',\n",
        "                optimizer='adam',\n",
        "                metrics=['accuracy'])\n",
        "    \n",
        "    return model\n",
        "\n",
        "p1 = 3\n",
        "p2 = 9\n",
        "EPOCHS = 100\n",
        "l_neuronas_totales = []\n",
        "l_neuronas = []\n",
        "l_capas = []\n",
        "l_loss = []\n",
        "l_accuracy = []\n",
        "l_tiempo = []\n",
        "l_parametros = []\n",
        "l_prop = []\n",
        "l_epocas = []\n",
        "\n",
        "for p in range(p1,p2+1):\n",
        "    i = 1\n",
        "    while p > 0:\n",
        "        model = build_model(2**p,i)\n",
        "        #model.summary()\n",
        "\n",
        "        # Entrenamiento\n",
        "        # Tomamos el tiempo de entrenamiento\n",
        "        start_time = time()\n",
        "        # Early stop\n",
        "        early_stop = keras.callbacks.EarlyStopping(monitor='accuracy', patience=10)\n",
        "        history = model.fit(X_train_normed,y_train,epochs=EPOCHS,verbose=0,callbacks=[early_stop])\n",
        "        time_ex = time() - start_time\n",
        "\n",
        "        print('Capas:',i,'\\nNeuronas x Capa:',2**p,'\\nEpocas:',len(history.epoch))\n",
        "        score = model.evaluate(X_test_normed, y_test,verbose=0)\n",
        "        print('Loss:',score[0],'\\nAccuracy:',score[1])\n",
        "        print('---------------------------------------')\n",
        "        # Agregamos datos del entrenamiento\n",
        "\n",
        "        l_neuronas.append(2**p)\n",
        "        l_capas.append(i)\n",
        "        l_neuronas_totales.append(i*(2**p))\n",
        "        l_parametros.append(model.count_params())\n",
        "        l_loss.append(score[0])\n",
        "        l_accuracy.append(score[1])\n",
        "        l_tiempo.append(time_ex)\n",
        "        l_prop.append(model.count_params()/X_train.shape[0])\n",
        "        l_epocas.append(len(history.epoch))\n",
        "\n",
        "        i = 2*i\n",
        "        p = p-1"
      ],
      "execution_count": 0,
      "outputs": [
        {
          "output_type": "stream",
          "text": [
            "Capas: 1 \n",
            "Neuronas x Capa: 8 \n",
            "Epocas: 47\n",
            "Loss: 0.11826497316360474 \n",
            "Accuracy: 0.9800000190734863\n",
            "---------------------------------------\n",
            "Capas: 2 \n",
            "Neuronas x Capa: 4 \n",
            "Epocas: 46\n",
            "Loss: 0.5786721110343933 \n",
            "Accuracy: 0.7133333086967468\n",
            "---------------------------------------\n",
            "Capas: 4 \n",
            "Neuronas x Capa: 2 \n",
            "Epocas: 100\n",
            "Loss: 0.28474822640419006 \n",
            "Accuracy: 0.95333331823349\n",
            "---------------------------------------\n",
            "Capas: 1 \n",
            "Neuronas x Capa: 16 \n",
            "Epocas: 44\n",
            "Loss: 0.10540218651294708 \n",
            "Accuracy: 0.9800000190734863\n",
            "---------------------------------------\n",
            "Capas: 2 \n",
            "Neuronas x Capa: 8 \n",
            "Epocas: 42\n",
            "Loss: 0.059704527258872986 \n",
            "Accuracy: 0.9766666889190674\n",
            "---------------------------------------\n",
            "Capas: 4 \n",
            "Neuronas x Capa: 4 \n",
            "Epocas: 52\n",
            "Loss: 0.07513534277677536 \n",
            "Accuracy: 0.9766666889190674\n",
            "---------------------------------------\n",
            "Capas: 8 \n",
            "Neuronas x Capa: 2 \n",
            "Epocas: 21\n",
            "Loss: 1.0986299514770508 \n",
            "Accuracy: 0.33000001311302185\n",
            "---------------------------------------\n",
            "Capas: 1 \n",
            "Neuronas x Capa: 32 \n",
            "Epocas: 54\n",
            "Loss: 0.061352647840976715 \n",
            "Accuracy: 0.9766666889190674\n",
            "---------------------------------------\n",
            "Capas: 2 \n",
            "Neuronas x Capa: 16 \n",
            "Epocas: 30\n",
            "Loss: 0.05464034527540207 \n",
            "Accuracy: 0.9833333492279053\n",
            "---------------------------------------\n",
            "Capas: 4 \n",
            "Neuronas x Capa: 8 \n",
            "Epocas: 40\n",
            "Loss: 0.04608803614974022 \n",
            "Accuracy: 0.9833333492279053\n",
            "---------------------------------------\n",
            "Capas: 8 \n",
            "Neuronas x Capa: 4 \n",
            "Epocas: 51\n",
            "Loss: 0.22127173840999603 \n",
            "Accuracy: 0.9800000190734863\n",
            "---------------------------------------\n",
            "Capas: 16 \n",
            "Neuronas x Capa: 2 \n",
            "Epocas: 11\n",
            "Loss: 1.0986124277114868 \n",
            "Accuracy: 0.3333333432674408\n",
            "---------------------------------------\n",
            "Capas: 1 \n",
            "Neuronas x Capa: 64 \n",
            "Epocas: 32\n",
            "Loss: 0.062014561146497726 \n",
            "Accuracy: 0.9766666889190674\n",
            "---------------------------------------\n",
            "Capas: 2 \n",
            "Neuronas x Capa: 32 \n",
            "Epocas: 20\n",
            "Loss: 0.04742531105875969 \n",
            "Accuracy: 0.9866666793823242\n",
            "---------------------------------------\n",
            "Capas: 4 \n",
            "Neuronas x Capa: 16 \n",
            "Epocas: 33\n",
            "Loss: 0.04940427467226982 \n",
            "Accuracy: 0.9833333492279053\n",
            "---------------------------------------\n",
            "Capas: 8 \n",
            "Neuronas x Capa: 8 \n",
            "Epocas: 38\n",
            "Loss: 0.05796021223068237 \n",
            "Accuracy: 0.9766666889190674\n",
            "---------------------------------------\n",
            "Capas: 16 \n",
            "Neuronas x Capa: 4 \n",
            "Epocas: 21\n",
            "Loss: 1.0986268520355225 \n",
            "Accuracy: 0.33000001311302185\n",
            "---------------------------------------\n",
            "Capas: 32 \n",
            "Neuronas x Capa: 2 \n",
            "Epocas: 12\n",
            "Loss: 1.0986298322677612 \n",
            "Accuracy: 0.3333333432674408\n",
            "---------------------------------------\n",
            "Capas: 1 \n",
            "Neuronas x Capa: 128 \n",
            "Epocas: 30\n",
            "Loss: 0.05671771243214607 \n",
            "Accuracy: 0.9766666889190674\n",
            "---------------------------------------\n",
            "Capas: 2 \n",
            "Neuronas x Capa: 64 \n",
            "Epocas: 20\n",
            "Loss: 0.044661637395620346 \n",
            "Accuracy: 0.9866666793823242\n",
            "---------------------------------------\n",
            "Capas: 4 \n",
            "Neuronas x Capa: 32 \n",
            "Epocas: 28\n",
            "Loss: 0.05192108079791069 \n",
            "Accuracy: 0.9800000190734863\n",
            "---------------------------------------\n",
            "Capas: 8 \n",
            "Neuronas x Capa: 16 \n",
            "Epocas: 25\n",
            "Loss: 0.046174462884664536 \n",
            "Accuracy: 0.9833333492279053\n",
            "---------------------------------------\n",
            "Capas: 16 \n",
            "Neuronas x Capa: 8 \n",
            "Epocas: 30\n",
            "Loss: 0.5881179571151733 \n",
            "Accuracy: 0.653333306312561\n",
            "---------------------------------------\n",
            "Capas: 32 \n",
            "Neuronas x Capa: 4 \n",
            "Epocas: 18\n",
            "Loss: 1.098639726638794 \n",
            "Accuracy: 0.33000001311302185\n",
            "---------------------------------------\n",
            "Capas: 64 \n",
            "Neuronas x Capa: 2 \n",
            "Epocas: 19\n",
            "Loss: 1.0986384153366089 \n",
            "Accuracy: 0.33000001311302185\n",
            "---------------------------------------\n",
            "Capas: 1 \n",
            "Neuronas x Capa: 256 \n",
            "Epocas: 27\n",
            "Loss: 0.05072028189897537 \n",
            "Accuracy: 0.9800000190734863\n",
            "---------------------------------------\n",
            "Capas: 2 \n",
            "Neuronas x Capa: 128 \n",
            "Epocas: 17\n",
            "Loss: 0.040633171796798706 \n",
            "Accuracy: 0.9800000190734863\n",
            "---------------------------------------\n",
            "Capas: 4 \n",
            "Neuronas x Capa: 64 \n",
            "Epocas: 16\n",
            "Loss: 0.055597592145204544 \n",
            "Accuracy: 0.9800000190734863\n",
            "---------------------------------------\n",
            "Capas: 8 \n",
            "Neuronas x Capa: 32 \n",
            "Epocas: 18\n",
            "Loss: 0.05021568387746811 \n",
            "Accuracy: 0.9800000190734863\n",
            "---------------------------------------\n",
            "Capas: 16 \n",
            "Neuronas x Capa: 16 \n",
            "Epocas: 25\n",
            "Loss: 0.05037803575396538 \n",
            "Accuracy: 0.9800000190734863\n",
            "---------------------------------------\n",
            "Capas: 32 \n",
            "Neuronas x Capa: 8 \n",
            "Epocas: 23\n",
            "Loss: 1.0986231565475464 \n",
            "Accuracy: 0.33000001311302185\n",
            "---------------------------------------\n",
            "Capas: 64 \n",
            "Neuronas x Capa: 4 \n",
            "Epocas: 20\n",
            "Loss: 1.0986350774765015 \n",
            "Accuracy: 0.33000001311302185\n",
            "---------------------------------------\n",
            "Capas: 128 \n",
            "Neuronas x Capa: 2 \n",
            "Epocas: 17\n",
            "Loss: 1.0986255407333374 \n",
            "Accuracy: 0.33000001311302185\n",
            "---------------------------------------\n",
            "Capas: 1 \n",
            "Neuronas x Capa: 512 \n",
            "Epocas: 35\n",
            "Loss: 0.045037951320409775 \n",
            "Accuracy: 0.9833333492279053\n",
            "---------------------------------------\n",
            "Capas: 2 \n",
            "Neuronas x Capa: 256 \n",
            "Epocas: 17\n",
            "Loss: 0.046515002846717834 \n",
            "Accuracy: 0.9800000190734863\n",
            "---------------------------------------\n",
            "Capas: 4 \n",
            "Neuronas x Capa: 128 \n",
            "Epocas: 17\n",
            "Loss: 0.047781240195035934 \n",
            "Accuracy: 0.9733333587646484\n",
            "---------------------------------------\n",
            "Capas: 8 \n",
            "Neuronas x Capa: 64 \n",
            "Epocas: 21\n",
            "Loss: 0.0695543959736824 \n",
            "Accuracy: 0.9800000190734863\n",
            "---------------------------------------\n",
            "Capas: 16 \n",
            "Neuronas x Capa: 32 \n",
            "Epocas: 23\n",
            "Loss: 0.10768591612577438 \n",
            "Accuracy: 0.9666666388511658\n",
            "---------------------------------------\n",
            "Capas: 32 \n",
            "Neuronas x Capa: 16 \n",
            "Epocas: 15\n",
            "Loss: 1.0986093282699585 \n",
            "Accuracy: 0.3333333432674408\n",
            "---------------------------------------\n",
            "Capas: 64 \n",
            "Neuronas x Capa: 8 \n",
            "Epocas: 14\n",
            "Loss: 1.0986160039901733 \n",
            "Accuracy: 0.33000001311302185\n",
            "---------------------------------------\n",
            "Capas: 128 \n",
            "Neuronas x Capa: 4 \n",
            "Epocas: 12\n",
            "Loss: 1.0986170768737793 \n",
            "Accuracy: 0.33000001311302185\n",
            "---------------------------------------\n",
            "Capas: 256 \n",
            "Neuronas x Capa: 2 \n",
            "Epocas: 15\n",
            "Loss: 1.0986241102218628 \n",
            "Accuracy: 0.3333333432674408\n",
            "---------------------------------------\n"
          ],
          "name": "stdout"
        }
      ]
    },
    {
      "cell_type": "code",
      "metadata": {
        "id": "amrqS1scnocA",
        "colab_type": "code",
        "outputId": "ce0697b2-a590-4d37-eb2c-6b6b381a881c",
        "colab": {
          "base_uri": "https://localhost:8080/",
          "height": 204
        }
      },
      "source": [
        "df = pd.DataFrame({'Neuronas':l_neuronas_totales,\n",
        "                   'Neuronas x Capa':l_neuronas,\n",
        "                   'Capas':l_capas,\n",
        "                   'Parametros':l_parametros,\n",
        "                   'PAR/TRAIN':l_prop,\n",
        "                   'Loss':l_loss,\n",
        "                   'Accuracy':l_accuracy,\n",
        "                   'Tiempo':l_tiempo,\n",
        "                   'Epocas':l_epocas})\n",
        "df.to_excel('data_model_multiclass_classification.xlsx',index=False)\n",
        "df.head()"
      ],
      "execution_count": 0,
      "outputs": [
        {
          "output_type": "execute_result",
          "data": {
            "text/html": [
              "<div>\n",
              "<style scoped>\n",
              "    .dataframe tbody tr th:only-of-type {\n",
              "        vertical-align: middle;\n",
              "    }\n",
              "\n",
              "    .dataframe tbody tr th {\n",
              "        vertical-align: top;\n",
              "    }\n",
              "\n",
              "    .dataframe thead th {\n",
              "        text-align: right;\n",
              "    }\n",
              "</style>\n",
              "<table border=\"1\" class=\"dataframe\">\n",
              "  <thead>\n",
              "    <tr style=\"text-align: right;\">\n",
              "      <th></th>\n",
              "      <th>Neuronas</th>\n",
              "      <th>Neuronas x Capa</th>\n",
              "      <th>Capas</th>\n",
              "      <th>Parametros</th>\n",
              "      <th>PAR/TRAIN</th>\n",
              "      <th>Loss</th>\n",
              "      <th>Accuracy</th>\n",
              "      <th>Tiempo</th>\n",
              "      <th>Epocas</th>\n",
              "    </tr>\n",
              "  </thead>\n",
              "  <tbody>\n",
              "    <tr>\n",
              "      <th>0</th>\n",
              "      <td>8</td>\n",
              "      <td>8</td>\n",
              "      <td>1</td>\n",
              "      <td>51</td>\n",
              "      <td>0.072857</td>\n",
              "      <td>0.118265</td>\n",
              "      <td>0.980000</td>\n",
              "      <td>1.077320</td>\n",
              "      <td>47</td>\n",
              "    </tr>\n",
              "    <tr>\n",
              "      <th>1</th>\n",
              "      <td>8</td>\n",
              "      <td>4</td>\n",
              "      <td>2</td>\n",
              "      <td>47</td>\n",
              "      <td>0.067143</td>\n",
              "      <td>0.578672</td>\n",
              "      <td>0.713333</td>\n",
              "      <td>1.100792</td>\n",
              "      <td>46</td>\n",
              "    </tr>\n",
              "    <tr>\n",
              "      <th>2</th>\n",
              "      <td>8</td>\n",
              "      <td>2</td>\n",
              "      <td>4</td>\n",
              "      <td>33</td>\n",
              "      <td>0.047143</td>\n",
              "      <td>0.284748</td>\n",
              "      <td>0.953333</td>\n",
              "      <td>2.553272</td>\n",
              "      <td>100</td>\n",
              "    </tr>\n",
              "    <tr>\n",
              "      <th>3</th>\n",
              "      <td>16</td>\n",
              "      <td>16</td>\n",
              "      <td>1</td>\n",
              "      <td>99</td>\n",
              "      <td>0.141429</td>\n",
              "      <td>0.105402</td>\n",
              "      <td>0.980000</td>\n",
              "      <td>1.038971</td>\n",
              "      <td>44</td>\n",
              "    </tr>\n",
              "    <tr>\n",
              "      <th>4</th>\n",
              "      <td>16</td>\n",
              "      <td>8</td>\n",
              "      <td>2</td>\n",
              "      <td>123</td>\n",
              "      <td>0.175714</td>\n",
              "      <td>0.059705</td>\n",
              "      <td>0.976667</td>\n",
              "      <td>1.006585</td>\n",
              "      <td>42</td>\n",
              "    </tr>\n",
              "  </tbody>\n",
              "</table>\n",
              "</div>"
            ],
            "text/plain": [
              "   Neuronas  Neuronas x Capa  Capas  ...  Accuracy    Tiempo  Epocas\n",
              "0         8                8      1  ...  0.980000  1.077320      47\n",
              "1         8                4      2  ...  0.713333  1.100792      46\n",
              "2         8                2      4  ...  0.953333  2.553272     100\n",
              "3        16               16      1  ...  0.980000  1.038971      44\n",
              "4        16                8      2  ...  0.976667  1.006585      42\n",
              "\n",
              "[5 rows x 9 columns]"
            ]
          },
          "metadata": {
            "tags": []
          },
          "execution_count": 26
        }
      ]
    },
    {
      "cell_type": "code",
      "metadata": {
        "id": "_rOiOWouN-TL",
        "colab_type": "code",
        "colab": {}
      },
      "source": [
        ""
      ],
      "execution_count": 0,
      "outputs": []
    }
  ]
}